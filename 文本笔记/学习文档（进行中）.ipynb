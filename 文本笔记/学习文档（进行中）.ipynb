{
 "cells": [
  {
   "cell_type": "markdown",
   "metadata": {},
   "source": [
    "1.输入输出流\n",
    "c++提供标准的输入输出流功能，要保护iostream头文件，使用cin和cout"
   ]
  },
  {
   "cell_type": "code",
   "execution_count": null,
   "metadata": {},
   "outputs": [],
   "source": [
    "//案例\n",
    "#include<iostream>\n",
    "using namespace std;\n",
    "int main(){\n",
    "    cout<<\"hello world!\"<<endl;\n",
    "    int a;\n",
    "    cin>>a;\n",
    "    cout<<a;\n",
    "    \n",
    "}"
   ]
  },
  {
   "cell_type": "markdown",
   "metadata": {},
   "source": [
    ">>获取输入，写入缓存，并返回cin对象\n",
    "<<从缓存中读取数据，并写入cout，返回cout，最后endl会将cout缓存中的数据输出到终端\n"
   ]
  },
  {
   "cell_type": "markdown",
   "metadata": {},
   "source": [
    "2.变量"
   ]
  },
  {
   "cell_type": "code",
   "execution_count": null,
   "metadata": {},
   "outputs": [],
   "source": [
    "int main(){\n",
    "    int a=100;//整型 4字节\n",
    "    long long lla=1000;//ll整型 8字节\n",
    "    long la=1024;//长整型 4字节\n",
    "    short sa=100;//短整型，2字节\n",
    "    bool bt=true;//布尔型，1字节\n",
    "\n",
    "}\n"
   ]
  },
  {
   "cell_type": "markdown",
   "metadata": {},
   "source": [
    "3.变量的声明和定义\n",
    "用extern 在头文件声明，在cpp中定义，保证变量不会被重复包含\n",
    "extern int a=100;//做了赋值操作，便是定义\n",
    "int age=100;int num;//不带extern 直接类型+ 变量名就是定义\n",
    "\n",
    "4.引用--变量别名\n",
    "int j=1;\n",
    "int &i=j;//i是j的引用\n",
    "\n",
    "5.指针\n",
    "指针值--地址\n",
    "四个状态\n",
    "    1.指向对象\n",
    "    2.指向相邻对象所占空间的下一个位置\n",
    "    3.空指针\n",
    "    4.无效指针，其他值\n",
    "*取指针指向的值\n",
    "int main(){\n",
    "    int age=10;\n",
    "    int *p=&age;\n",
    "    *p+=2;\n",
    "    cout<<age<<\",\"<<p;\n",
    "}\n",
    "\n",
    "6.常量\n",
    "常量定义一定要初始化赋值，否则编译报错\n",
    "const int bu=512;\n",
    "//不能修改值\n",
    "//利用一个常量初始化另一个常量\n",
    "//可行，常量绑定到普通对象上\n",
    "int iv=42;\n",
    "const int &r1=iv;\n",
    "const int &r2=42;\n",
    "const int &43=r1*2;\n",
    "错误的是这种：int &r4=r1*2;\n",
    "\n",
    "\n"
   ]
  },
  {
   "cell_type": "markdown",
   "metadata": {},
   "source": [
    "7.指向常量的指针\n",
    "这个指针不能被修改了\n",
    " //指向常量的指针\n",
    "    const double pi = 3.14;\n",
    "    //不可以用普通指针指向常量\n",
    "    // double *ptr = &pi;\n",
    "    //用常量指针指向常量\n",
    "    const double *cptr = &pi;\n",
    "    //不能给*cptr赋值因为cptr指向的是常量\n",
    "    // *cptr = 42;\n",
    "    //指向常量的指针指向非常量\n",
    "    double dval = 3.14;\n",
    "    cptr = &dval;"
   ]
  },
  {
   "cell_type": "markdown",
   "metadata": {},
   "source": [
    "8.常量指针\n",
    "必须初始化，不能改变\n",
    "int *const curErr=0;\n",
    "//常量指针\n",
    "//常量指针的值初始化后就不允许修改\n",
    "int errNumb = 0;\n",
    "// curErr将一直指向errNumb\n",
    "int *const curErr = &errNumb;\n",
    "//不允许修改curErr的指向\n",
    "int rightNumb = 1;\n",
    "//编译报错，提示=左侧必须为可修改的左值\n",
    "// curErr = &rightNumb;\n",
    "const double pi = 3.14159;\n",
    "// pip是一个指向常量对象的常量指针\n",
    "const double *const pip = &pi;\n"
   ]
  },
  {
   "cell_type": "code",
   "execution_count": null,
   "metadata": {},
   "outputs": [],
   "source": [
    "9.顶层const\n",
    "指针本身是一个对象又可以指向另外一个对象\n",
    " constexper变量，一个constexper初始值必须是nullptr或者0\n",
    " //\n",
    " // 20是一个常量表达式\n",
    "    constexpr int mf = 20;\n",
    "    // mf + 1是一个常量表达式\n",
    "    constexpr int limit = mf + 1;\n",
    "    // size是一个constexpr函数\n",
    "    constexpr int sizen = size();\n"
   ]
  },
  {
   "cell_type": "markdown",
   "metadata": {},
   "source": [
    "10."
   ]
  }
 ],
 "metadata": {
  "language_info": {
   "name": "python"
  }
 },
 "nbformat": 4,
 "nbformat_minor": 2
}
